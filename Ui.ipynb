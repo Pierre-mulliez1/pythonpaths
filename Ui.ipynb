{
 "cells": [
  {
   "cell_type": "code",
   "execution_count": 4,
   "id": "reasonable-playlist",
   "metadata": {},
   "outputs": [
    {
     "ename": "ModuleNotFoundError",
     "evalue": "No module named 'ie_utils'",
     "output_type": "error",
     "traceback": [
      "\u001b[0;31m---------------------------------------------------------------------------\u001b[0m",
      "\u001b[0;31mModuleNotFoundError\u001b[0m                       Traceback (most recent call last)",
      "\u001b[0;32m<ipython-input-4-5d30561b721b>\u001b[0m in \u001b[0;36m<module>\u001b[0;34m\u001b[0m\n\u001b[0;32m----> 1\u001b[0;31m \u001b[0;32mfrom\u001b[0m \u001b[0mie_utils\u001b[0m \u001b[0;32mimport\u001b[0m \u001b[0mtokenize\u001b[0m\u001b[0;34m\u001b[0m\u001b[0;34m\u001b[0m\u001b[0m\n\u001b[0m\u001b[1;32m      2\u001b[0m \u001b[0;32mimport\u001b[0m \u001b[0mipywidgets\u001b[0m \u001b[0;32mas\u001b[0m \u001b[0mipyw\u001b[0m\u001b[0;34m\u001b[0m\u001b[0;34m\u001b[0m\u001b[0m\n",
      "\u001b[0;31mModuleNotFoundError\u001b[0m: No module named 'ie_utils'"
     ]
    }
   ],
   "source": [
    "from ie_utils import tokenize\n",
    "import ipywidgets as ipyw\n",
    "from Ipython.display import markdown"
   ]
  },
  {
   "cell_type": "code",
   "execution_count": null,
   "id": "adult-durham",
   "metadata": {},
   "outputs": [],
   "source": [
    "import sys\n",
    "sys.prefix"
   ]
  },
  {
   "cell_type": "markdown",
   "id": "physical-sucking",
   "metadata": {},
   "source": [
    "def do_tokenize(sentence):\n",
    "    r = tokenize(sentence)\n",
    "    diplay(Markdown(r))"
   ]
  },
  {
   "cell_type": "code",
   "execution_count": 3,
   "id": "faced-scene",
   "metadata": {},
   "outputs": [],
   "source": [
    "##Markdown \n",
    "#enter your value\n",
    "tokenize_widget = ipyw.interactive(do_tokenize)"
   ]
  },
  {
   "cell_type": "code",
   "execution_count": 1,
   "id": "arctic-verification",
   "metadata": {},
   "outputs": [
    {
     "ename": "NameError",
     "evalue": "name 'ipyw' is not defined",
     "output_type": "error",
     "traceback": [
      "\u001b[0;31m---------------------------------------------------------------------------\u001b[0m",
      "\u001b[0;31mNameError\u001b[0m                                 Traceback (most recent call last)",
      "\u001b[0;32m<ipython-input-1-53b04e13449f>\u001b[0m in \u001b[0;36m<module>\u001b[0;34m\u001b[0m\n\u001b[0;32m----> 1\u001b[0;31m \u001b[0mtokenize_widget\u001b[0m \u001b[0;34m=\u001b[0m \u001b[0mipyw\u001b[0m\u001b[0;34m.\u001b[0m\u001b[0minteractive\u001b[0m\u001b[0;34m(\u001b[0m\u001b[0mdo_interactive\u001b[0m\u001b[0;34m)\u001b[0m\u001b[0;34m\u001b[0m\u001b[0;34m\u001b[0m\u001b[0m\n\u001b[0m",
      "\u001b[0;31mNameError\u001b[0m: name 'ipyw' is not defined"
     ]
    }
   ],
   "source": [
    "output_widget = ipyw.Output()"
   ]
  },
  {
   "cell_type": "code",
   "execution_count": null,
   "id": "polish-occasions",
   "metadata": {},
   "outputs": [],
   "source": [
    "button = ipyw.Button(description=\"press!\")\n",
    "\n",
    "def buttonclicked(change):\n",
    "    with output_widget\n",
    "    print(\"clicked bton\")\n",
    "button.on_click(button_clicked)"
   ]
  },
  {
   "cell_type": "code",
   "execution_count": null,
   "id": "innovative-packing",
   "metadata": {},
   "outputs": [],
   "source": [
    "ui = ipyw.Tab(children=[vbox])\n",
    "ui.set_title(0,\"tokenization\")\n",
    "ui"
   ]
  }
 ],
 "metadata": {
  "kernelspec": {
   "display_name": "Python 3",
   "language": "python",
   "name": "python3"
  },
  "language_info": {
   "codemirror_mode": {
    "name": "ipython",
    "version": 3
   },
   "file_extension": ".py",
   "mimetype": "text/x-python",
   "name": "python",
   "nbconvert_exporter": "python",
   "pygments_lexer": "ipython3",
   "version": "3.7.3"
  }
 },
 "nbformat": 4,
 "nbformat_minor": 5
}
