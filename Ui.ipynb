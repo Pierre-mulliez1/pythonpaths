{
 "cells": [
  {
   "cell_type": "code",
   "execution_count": 4,
   "id": "straight-ticket",
   "metadata": {},
   "outputs": [
    {
     "ename": "ModuleNotFoundError",
     "evalue": "No module named 'ie_utils'",
     "output_type": "error",
     "traceback": [
      "\u001b[0;31m---------------------------------------------------------------------------\u001b[0m",
      "\u001b[0;31mModuleNotFoundError\u001b[0m                       Traceback (most recent call last)",
      "\u001b[0;32m<ipython-input-4-5d30561b721b>\u001b[0m in \u001b[0;36m<module>\u001b[0;34m\u001b[0m\n\u001b[0;32m----> 1\u001b[0;31m \u001b[0;32mfrom\u001b[0m \u001b[0mie_utils\u001b[0m \u001b[0;32mimport\u001b[0m \u001b[0mtokenize\u001b[0m\u001b[0;34m\u001b[0m\u001b[0;34m\u001b[0m\u001b[0m\n\u001b[0m\u001b[1;32m      2\u001b[0m \u001b[0;32mimport\u001b[0m \u001b[0mipywidgets\u001b[0m \u001b[0;32mas\u001b[0m \u001b[0mipyw\u001b[0m\u001b[0;34m\u001b[0m\u001b[0;34m\u001b[0m\u001b[0m\n",
      "\u001b[0;31mModuleNotFoundError\u001b[0m: No module named 'ie_utils'"
     ]
    }
   ],
   "source": [
    "from ie_utils import tokenize\n",
    "import ipywidgets as ipyw\n",
    "from Ipython.display import Markdown"
   ]
  },
  {
   "cell_type": "code",
   "execution_count": null,
   "id": "premier-preserve",
   "metadata": {},
   "outputs": [],
   "source": [
    "import sys\n",
    "sys.prefix"
   ]
  },
  {
   "cell_type": "code",
   "execution_count": null,
   "id": "intended-science",
   "metadata": {},
   "outputs": [],
   "source": [
    "# @ipyw.interact\n",
    "def do_tokenize(message=\"\"):\n",
    "    try:\n",
    "        tokens = tokenize(message)\n",
    "    except ValueError:\n",
    "        tokens = []\n",
    "\n",
    "    output = f\"**Number of tokens**: {len(tokens)}\"\n",
    "    display(Markdown(output))"
   ]
  },
  {
   "cell_type": "code",
   "execution_count": 3,
   "id": "prime-strap",
   "metadata": {},
   "outputs": [],
   "source": [
    "##Markdown \n",
    "#enter your value\n",
    "tokenize_widget = ipyw.interactive(do_tokenize)"
   ]
  },
  {
   "cell_type": "code",
   "execution_count": 1,
   "id": "horizontal-opera",
   "metadata": {},
   "outputs": [
    {
     "ename": "NameError",
     "evalue": "name 'ipyw' is not defined",
     "output_type": "error",
     "traceback": [
      "\u001b[0;31m---------------------------------------------------------------------------\u001b[0m",
      "\u001b[0;31mNameError\u001b[0m                                 Traceback (most recent call last)",
      "\u001b[0;32m<ipython-input-1-53b04e13449f>\u001b[0m in \u001b[0;36m<module>\u001b[0;34m\u001b[0m\n\u001b[0;32m----> 1\u001b[0;31m \u001b[0mtokenize_widget\u001b[0m \u001b[0;34m=\u001b[0m \u001b[0mipyw\u001b[0m\u001b[0;34m.\u001b[0m\u001b[0minteractive\u001b[0m\u001b[0;34m(\u001b[0m\u001b[0mdo_interactive\u001b[0m\u001b[0;34m)\u001b[0m\u001b[0;34m\u001b[0m\u001b[0;34m\u001b[0m\u001b[0m\n\u001b[0m",
      "\u001b[0;31mNameError\u001b[0m: name 'ipyw' is not defined"
     ]
    }
   ],
   "source": [
    "output_widget = ipyw.Output()"
   ]
  },
  {
   "cell_type": "code",
   "execution_count": null,
   "id": "legendary-street",
   "metadata": {},
   "outputs": [],
   "source": [
    "button = ipyw.Button(description=\"press!\")\n",
    "\n",
    "def buttonclicked(change):\n",
    "    with output_widget\n",
    "    print(\"clicked bton\")\n",
    "button.on_click(button_clicked)"
   ]
  },
  {
   "cell_type": "code",
   "execution_count": null,
   "id": "extensive-nirvana",
   "metadata": {},
   "outputs": [],
   "source": [
    "vbox = ipyw.VBox([tokenize_widget, button, output_widget])\n",
    "ui.set_title(0,\"tokenization\")\n",
    "ui"
   ]
  }
 ],
 "metadata": {
  "kernelspec": {
   "display_name": "Python 3",
   "language": "python",
   "name": "python3"
  },
  "language_info": {
   "codemirror_mode": {
    "name": "ipython",
    "version": 3
   },
   "file_extension": ".py",
   "mimetype": "text/x-python",
   "name": "python",
   "nbconvert_exporter": "python",
   "pygments_lexer": "ipython3",
   "version": "3.7.3"
  }
 },
 "nbformat": 4,
 "nbformat_minor": 5
}
